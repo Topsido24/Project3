{
 "cells": [
  {
   "cell_type": "code",
   "execution_count": null,
   "id": "20344f8b-4135-457a-9049-187564ece46a",
   "metadata": {},
   "outputs": [],
   "source": [
    "import pandas as pd\n",
    "\n",
    "# Replace 'your_file.csv' with the actual filename of your CSV file.\n",
    "df = pd.read_csv('craigslist_vehicles.csv')\n",
    "\n",
    "# Display the first few rows of the DataFrame to check if the data has been loaded correctly.\n",
    "df.head()"
   ]
  },
  {
   "cell_type": "code",
   "execution_count": null,
   "id": "ebd44cd3-1390-40d1-9296-3e297f00887e",
   "metadata": {},
   "outputs": [],
   "source": []
  }
 ],
 "metadata": {
  "kernelspec": {
   "display_name": "Python 3 (ipykernel)",
   "language": "python",
   "name": "python3"
  },
  "language_info": {
   "codemirror_mode": {
    "name": "ipython",
    "version": 3
   },
   "file_extension": ".py",
   "mimetype": "text/x-python",
   "name": "python",
   "nbconvert_exporter": "python",
   "pygments_lexer": "ipython3",
   "version": "3.10.7"
  }
 },
 "nbformat": 4,
 "nbformat_minor": 5
}
